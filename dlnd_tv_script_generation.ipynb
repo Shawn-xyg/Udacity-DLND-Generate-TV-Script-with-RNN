{
 "cells": [
  {
   "cell_type": "markdown",
   "metadata": {
    "colab_type": "text",
    "id": "SLcsne446Ktv"
   },
   "source": [
    "# TV Script Generation\n",
    "\n",
    "In this project, you'll generate your own [Seinfeld](https://en.wikipedia.org/wiki/Seinfeld) TV scripts using RNNs.  You'll be using part of the [Seinfeld dataset](https://www.kaggle.com/thec03u5/seinfeld-chronicles#scripts.csv) of scripts from 9 seasons.  The Neural Network you'll build will generate a new ,\"fake\" TV script, based on patterns it recognizes in this training data.\n",
    "\n",
    "## Get the Data\n",
    "\n",
    "The data is already provided for you in `./data/Seinfeld_Scripts.txt` and you're encouraged to open that file and look at the text. \n",
    ">* As a first step, we'll load in this data and look at some samples. \n",
    "* Then, you'll be tasked with defining and training an RNN to generate a new script!"
   ]
  },
  {
   "cell_type": "code",
   "execution_count": 5,
   "metadata": {
    "colab": {},
    "colab_type": "code",
    "id": "JKp2--cR6Ktw"
   },
   "outputs": [],
   "source": [
    "\"\"\"\n",
    "DON'T MODIFY ANYTHING IN THIS CELL\n",
    "\"\"\"\n",
    "# load in data\n",
    "import helper\n",
    "data_dir = 'data/Seinfeld_Scripts.txt'\n",
    "with open(data_dir, 'r', encoding = 'utf-8', errors = 'ignore') as f:\n",
    "    text = f.read()"
   ]
  },
  {
   "cell_type": "markdown",
   "metadata": {
    "colab_type": "text",
    "id": "XpVDF7Hi6Kt0"
   },
   "source": [
    "## Explore the Data\n",
    "Play around with `view_line_range` to view different parts of the data. This will give you a sense of the data you'll be working with. You can see, for example, that it is all lowercase text, and each new line of dialogue is separated by a newline character `\\n`."
   ]
  },
  {
   "cell_type": "code",
   "execution_count": 6,
   "metadata": {
    "colab": {
     "base_uri": "https://localhost:8080/",
     "height": 309
    },
    "colab_type": "code",
    "id": "rh4HKU956Kt1",
    "outputId": "20e355eb-ee1e-4ad2-fd4d-70c4a2fdff2e"
   },
   "outputs": [
    {
     "name": "stdout",
     "output_type": "stream",
     "text": [
      "Dataset Stats\n",
      "Roughly the number of unique words: 46367\n",
      "Number of lines: 109233\n",
      "Average number of words in each line: 5.544240293684143\n",
      "\n",
      "The lines 0 to 10:\n",
      "jerry: do you know what this is all about? do you know, why were here? to be out, this is out...and out is one of the single most enjoyable experiences of life. people...did you ever hear people talking about we should go out? this is what theyre talking about...this whole thing, were all out now, no one is home. not one person here is home, were all out! there are people trying to find us, they dont know where we are. (on an imaginary phone) did you ring?, i cant find him. where did he go? he didnt tell me where he was going. he must have gone out. you wanna go out you get ready, you pick out the clothes, right? you take the shower, you get all ready, get the cash, get your friends, the car, the spot, the reservation...then youre standing around, what do you do? you go we gotta be getting back. once youre out, you wanna get back! you wanna go to sleep, you wanna get up, you wanna go out again tomorrow, right? where ever you are in life, its my feeling, youve gotta go. \n",
      "\n",
      "jerry: (pointing at georges shirt) see, to me, that button is in the worst possible spot. the second button literally makes or breaks the shirt, look at it. its too high! its in no-mans-land. you look like you live with your mother. \n",
      "\n",
      "george: are you through? \n",
      "\n",
      "jerry: you do of course try on, when you buy? \n",
      "\n",
      "george: yes, it was purple, i liked it, i dont actually recall considering the buttons. \n",
      "\n"
     ]
    }
   ],
   "source": [
    "view_line_range = (0, 10)\n",
    "\n",
    "import numpy as np\n",
    "\n",
    "print('Dataset Stats')\n",
    "print('Roughly the number of unique words: {}'.format(len({word: None for word in text.split()})))\n",
    "\n",
    "lines = text.split('\\n')\n",
    "print('Number of lines: {}'.format(len(lines)))\n",
    "word_count_line = [len(line.split()) for line in lines]\n",
    "print('Average number of words in each line: {}'.format(np.average(word_count_line)))\n",
    "\n",
    "print()\n",
    "print('The lines {} to {}:'.format(*view_line_range))\n",
    "print('\\n'.join(text.split('\\n')[view_line_range[0]:view_line_range[1]]))"
   ]
  },
  {
   "cell_type": "markdown",
   "metadata": {
    "colab_type": "text",
    "id": "r2tsgzq46Kt5"
   },
   "source": [
    "---\n",
    "## Implement Pre-processing Functions\n",
    "The first thing to do to any dataset is pre-processing.  Implement the following pre-processing functions below:\n",
    "- Lookup Table\n",
    "- Tokenize Punctuation\n",
    "\n",
    "### Lookup Table\n",
    "To create a word embedding, you first need to transform the words to ids.  In this function, create two dictionaries:\n",
    "- Dictionary to go from the words to an id, we'll call `vocab_to_int`\n",
    "- Dictionary to go from the id to word, we'll call `int_to_vocab`\n",
    "\n",
    "Return these dictionaries in the following **tuple** `(vocab_to_int, int_to_vocab)`"
   ]
  },
  {
   "cell_type": "code",
   "execution_count": 7,
   "metadata": {
    "colab": {
     "base_uri": "https://localhost:8080/",
     "height": 34
    },
    "colab_type": "code",
    "id": "_PlOI-E36Kt5",
    "outputId": "a51f911f-f4d4-4742-ae19-6e8823fcee9a"
   },
   "outputs": [
    {
     "name": "stdout",
     "output_type": "stream",
     "text": [
      "Tests Passed\n"
     ]
    }
   ],
   "source": [
    "import problem_unittests as tests\n",
    "from collections import Counter\n",
    "\n",
    "def create_lookup_tables(text):\n",
    "    \"\"\"\n",
    "    Create lookup tables for vocabulary\n",
    "    :param text: The text of tv scripts split into words\n",
    "    :return: A tuple of dicts (vocab_to_int, int_to_vocab)\n",
    "    \"\"\"\n",
    "    # TODO: Implement Function\n",
    "    word_counter = Counter(text).most_common()\n",
    "    vocab_to_int = {word:i for i, (word, count) in enumerate(word_counter)}\n",
    "    int_to_vocab = {i:word for word, i in vocab_to_int.items()}\n",
    "    # return tuple\n",
    "    return (vocab_to_int, int_to_vocab)\n",
    "\n",
    "\"\"\"\n",
    "DON'T MODIFY ANYTHING IN THIS CELL THAT IS BELOW THIS LINE\n",
    "\"\"\"\n",
    "tests.test_create_lookup_tables(create_lookup_tables)"
   ]
  },
  {
   "cell_type": "markdown",
   "metadata": {
    "colab_type": "text",
    "id": "Nah-upOF6Kt8"
   },
   "source": [
    "### Tokenize Punctuation\n",
    "We'll be splitting the script into a word array using spaces as delimiters.  However, punctuations like periods and exclamation marks can create multiple ids for the same word. For example, \"bye\" and \"bye!\" would generate two different word ids.\n",
    "\n",
    "Implement the function `token_lookup` to return a dict that will be used to tokenize symbols like \"!\" into \"||Exclamation_Mark||\".  Create a dictionary for the following symbols where the symbol is the key and value is the token:\n",
    "- Period ( **.** )\n",
    "- Comma ( **,** )\n",
    "- Quotation Mark ( **\"** )\n",
    "- Semicolon ( **;** )\n",
    "- Exclamation mark ( **!** )\n",
    "- Question mark ( **?** )\n",
    "- Left Parentheses ( **(** )\n",
    "- Right Parentheses ( **)** )\n",
    "- Dash ( **-** )\n",
    "- Return ( **\\n** )\n",
    "\n",
    "This dictionary will be used to tokenize the symbols and add the delimiter (space) around it.  This separates each symbols as its own word, making it easier for the neural network to predict the next word. Make sure you don't use a value that could be confused as a word; for example, instead of using the value \"dash\", try using something like \"||dash||\"."
   ]
  },
  {
   "cell_type": "code",
   "execution_count": 8,
   "metadata": {
    "colab": {},
    "colab_type": "code",
    "id": "XzopxoAl6Kt8"
   },
   "outputs": [],
   "source": [
    "# Punctuations that exist in the text\n",
    "from string import punctuation\n",
    "\n",
    "punctuation = set(word for word in text if word in punctuation)"
   ]
  },
  {
   "cell_type": "code",
   "execution_count": 9,
   "metadata": {
    "colab": {
     "base_uri": "https://localhost:8080/",
     "height": 510
    },
    "colab_type": "code",
    "id": "PZ1mGvnR6Kt_",
    "outputId": "2a4cd0fe-0b43-4375-e995-48d8b59f4f9f"
   },
   "outputs": [
    {
     "data": {
      "text/plain": [
       "{'!',\n",
       " '\"',\n",
       " '#',\n",
       " '$',\n",
       " '%',\n",
       " '&',\n",
       " \"'\",\n",
       " '(',\n",
       " ')',\n",
       " '*',\n",
       " '+',\n",
       " ',',\n",
       " '-',\n",
       " '.',\n",
       " '/',\n",
       " ':',\n",
       " ';',\n",
       " '<',\n",
       " '=',\n",
       " '>',\n",
       " '?',\n",
       " '[',\n",
       " '\\\\',\n",
       " ']',\n",
       " '_',\n",
       " '`',\n",
       " '{',\n",
       " '}',\n",
       " '~'}"
      ]
     },
     "execution_count": 9,
     "metadata": {},
     "output_type": "execute_result"
    }
   ],
   "source": [
    "punctuation"
   ]
  },
  {
   "cell_type": "code",
   "execution_count": 10,
   "metadata": {
    "colab": {
     "base_uri": "https://localhost:8080/",
     "height": 34
    },
    "colab_type": "code",
    "id": "j6A0wvbr6KuC",
    "outputId": "7e51db65-be8e-4945-b474-4d9fdba35354"
   },
   "outputs": [
    {
     "name": "stdout",
     "output_type": "stream",
     "text": [
      "Tests Passed\n"
     ]
    }
   ],
   "source": [
    "\n",
    "def token_lookup():\n",
    "    \"\"\"\n",
    "    Generate a dict to turn punctuation into a token.\n",
    "    :return: Tokenized dictionary where the key is the punctuation and the value is the token\n",
    "    \"\"\"\n",
    "    # TODO: Implement Function\n",
    "    token_lookup = {}\n",
    "    token_lookup['.'] = \"||PERIOD||\"\n",
    "    token_lookup[','] = \"||COMMA||\"\n",
    "    token_lookup['\"'] = \"||QUOTATION||\"\n",
    "    token_lookup[';'] = \"||SEMICOLON||\"\n",
    "    token_lookup['!'] = \"||EXCLAMATION||\"\n",
    "    token_lookup['?'] = \"||QUESTION||\"\n",
    "    token_lookup['('] = \"||LEFTPARENTHESES||\"\n",
    "    token_lookup[')'] = \"||RIGHTPARENTHESES||\"\n",
    "    token_lookup['-'] = \"||DASH||\"\n",
    "    token_lookup['\\n'] = \"||RETURN||\"\n",
    "    token_lookup[':'] = \"||COLON||\"\n",
    "    token_lookup['$'] = \"||DOLLAR||\"\n",
    "    token_lookup['%'] = \"||PERCENT||\"\n",
    "    token_lookup['&'] = \"||AND||\"\n",
    "    token_lookup[\"'\"] = \"||APOSTROPHE||\"\n",
    "    token_lookup['*'] = \"||ASTERISK||\"\n",
    "    token_lookup['+'] = \"||PLUS||\"\n",
    "    token_lookup['-'] = \"||MINUS||\"\n",
    "    token_lookup['/'] = \"||SLASH||\"\n",
    "    token_lookup['<'] = \"||LEFTANGLEBRACKET||\"\n",
    "    token_lookup['>'] = \"||RIGHTANGLEBRACKET||\"\n",
    "    token_lookup['='] = \"||EQUAL||\"\n",
    "    token_lookup['['] = \"||LEFTSQUAREBRACKET||\"\n",
    "    token_lookup[']'] = \"||RIGHTSQUAREBRACKET||\"\n",
    "    token_lookup['\\\\'] = \"||DOUBLESLASH||\"\n",
    "    token_lookup['_'] = \"||UNDERLINE||\"\n",
    "    token_lookup['`'] = \"||POINT||\"\n",
    "    token_lookup['{'] = \"||LEFTCURLYBRACKET||\"\n",
    "    token_lookup['}'] = \"||RIGHTCURLYBRACKET||\"\n",
    "    token_lookup['~'] = \"||TILDE||\"\n",
    "    token_lookup['#'] = \"||HASH||\"\n",
    "    return token_lookup\n",
    "\n",
    "\"\"\"\n",
    "DON'T MODIFY ANYTHING IN THIS CELL THAT IS BELOW THIS LINE\n",
    "\"\"\"\n",
    "tests.test_tokenize(token_lookup)"
   ]
  },
  {
   "cell_type": "markdown",
   "metadata": {
    "colab_type": "text",
    "id": "jX6CaEi76KuE"
   },
   "source": [
    "## Pre-process all the data and save it\n",
    "\n",
    "Running the code cell below will pre-process all the data and save it to file. You're encouraged to look at the code for `preprocess_and_save_data` in the `helpers.py` file to see what it's doing in detail, but you do not need to change this code."
   ]
  },
  {
   "cell_type": "code",
   "execution_count": 11,
   "metadata": {
    "colab": {},
    "colab_type": "code",
    "id": "U0_HrSvc6KuF"
   },
   "outputs": [],
   "source": [
    "\"\"\"\n",
    "DON'T MODIFY ANYTHING IN THIS CELL\n",
    "\"\"\"\n",
    "# pre-process training data\n",
    "helper.preprocess_and_save_data(data_dir, token_lookup, create_lookup_tables)"
   ]
  },
  {
   "cell_type": "markdown",
   "metadata": {
    "colab_type": "text",
    "id": "0_WG0OgE6KuH"
   },
   "source": [
    "# Check Point\n",
    "This is your first checkpoint. If you ever decide to come back to this notebook or have to restart the notebook, you can start from here. The preprocessed data has been saved to disk."
   ]
  },
  {
   "cell_type": "code",
   "execution_count": 12,
   "metadata": {
    "colab": {},
    "colab_type": "code",
    "id": "v9MVzase6KuH"
   },
   "outputs": [],
   "source": [
    "\"\"\"\n",
    "DON'T MODIFY ANYTHING IN THIS CELL\n",
    "\"\"\"\n",
    "import helper\n",
    "import problem_unittests as tests\n",
    "\n",
    "int_text, vocab_to_int, int_to_vocab, token_dict = helper.load_preprocess()"
   ]
  },
  {
   "cell_type": "markdown",
   "metadata": {
    "colab_type": "text",
    "id": "V5eEWIwm6KuK"
   },
   "source": [
    "## Build the Neural Network\n",
    "In this section, you'll build the components necessary to build an RNN by implementing the RNN Module and forward and backpropagation functions.\n",
    "\n",
    "### Check Access to GPU"
   ]
  },
  {
   "cell_type": "code",
   "execution_count": 13,
   "metadata": {
    "colab": {},
    "colab_type": "code",
    "id": "hOSMJQSQ6KuK"
   },
   "outputs": [],
   "source": [
    "\"\"\"\n",
    "DON'T MODIFY ANYTHING IN THIS CELL\n",
    "\"\"\"\n",
    "import torch\n",
    "\n",
    "# Check for a GPU\n",
    "train_on_gpu = torch.cuda.is_available()\n",
    "if not train_on_gpu:\n",
    "    print('No GPU found. Please use a GPU to train your neural network.')"
   ]
  },
  {
   "cell_type": "markdown",
   "metadata": {
    "colab_type": "text",
    "id": "LKbDf4tl6KuN"
   },
   "source": [
    "## Input\n",
    "Let's start with the preprocessed input data. We'll use [TensorDataset](http://pytorch.org/docs/master/data.html#torch.utils.data.TensorDataset) to provide a known format to our dataset; in combination with [DataLoader](http://pytorch.org/docs/master/data.html#torch.utils.data.DataLoader), it will handle batching, shuffling, and other dataset iteration functions.\n",
    "\n",
    "You can create data with TensorDataset by passing in feature and target tensors. Then create a DataLoader as usual.\n",
    "```\n",
    "data = TensorDataset(feature_tensors, target_tensors)\n",
    "data_loader = torch.utils.data.DataLoader(data, \n",
    "                                          batch_size=batch_size)\n",
    "```\n",
    "\n",
    "### Batching\n",
    "Implement the `batch_data` function to batch `words` data into chunks of size `batch_size` using the `TensorDataset` and `DataLoader` classes.\n",
    "\n",
    ">You can batch words using the DataLoader, but it will be up to you to create `feature_tensors` and `target_tensors` of the correct size and content for a given `sequence_length`.\n",
    "\n",
    "For example, say we have these as input:\n",
    "```\n",
    "words = [1, 2, 3, 4, 5, 6, 7]\n",
    "sequence_length = 4\n",
    "```\n",
    "\n",
    "Your first `feature_tensor` should contain the values:\n",
    "```\n",
    "[1, 2, 3, 4]\n",
    "```\n",
    "And the corresponding `target_tensor` should just be the next \"word\"/tokenized word value:\n",
    "```\n",
    "5\n",
    "```\n",
    "This should continue with the second `feature_tensor`, `target_tensor` being:\n",
    "```\n",
    "[2, 3, 4, 5]  # features\n",
    "6             # target\n",
    "```"
   ]
  },
  {
   "cell_type": "code",
   "execution_count": 14,
   "metadata": {
    "colab": {},
    "colab_type": "code",
    "id": "chswu0jD6KuN"
   },
   "outputs": [],
   "source": [
    "from torch.utils.data import TensorDataset, DataLoader\n",
    "\n",
    "\n",
    "def batch_data(words, sequence_length, batch_size):\n",
    "    \"\"\"\n",
    "    Batch the neural network data using DataLoader\n",
    "    :param words: The word ids of the TV scripts\n",
    "    :param sequence_length: The sequence length of each batch\n",
    "    :param batch_size: The size of each batch; the number of sequences in a batch\n",
    "    :return: DataLoader with batched data\n",
    "    \"\"\"\n",
    "    # TODO: Implement function\n",
    "    features = []\n",
    "    targets = []\n",
    "    for i in range(len(words)):\n",
    "        try:\n",
    "            if i+sequence_length <= len(words) - 1:\n",
    "                feature = words[i:i+sequence_length]\n",
    "                target = words[i+sequence_length]\n",
    "            else:\n",
    "                break\n",
    "        except IndexError:\n",
    "            pass\n",
    "        features.append(feature)\n",
    "        targets.append(target)\n",
    "    feature_tensor = torch.tensor(features)\n",
    "    target_tensor = torch.tensor(targets)\n",
    "    dataset = TensorDataset(feature_tensor, target_tensor)\n",
    "    return DataLoader(dataset, batch_size, shuffle = True)\n",
    "    \n",
    "\n",
    "# there is no test for this function, but you are encouraged to create\n",
    "# print statements and tests of your own\n"
   ]
  },
  {
   "cell_type": "markdown",
   "metadata": {
    "colab_type": "text",
    "id": "Bs4pZZj76KuQ"
   },
   "source": [
    "### Test your dataloader \n",
    "\n",
    "You'll have to modify this code to test a batching function, but it should look fairly similar.\n",
    "\n",
    "Below, we're generating some test text data and defining a dataloader using the function you defined, above. Then, we are getting some sample batch of inputs `sample_x` and targets `sample_y` from our dataloader.\n",
    "\n",
    "Your code should return something like the following (likely in a different order, if you shuffled your data):\n",
    "\n",
    "```\n",
    "torch.Size([10, 5])\n",
    "tensor([[ 28,  29,  30,  31,  32],\n",
    "        [ 21,  22,  23,  24,  25],\n",
    "        [ 17,  18,  19,  20,  21],\n",
    "        [ 34,  35,  36,  37,  38],\n",
    "        [ 11,  12,  13,  14,  15],\n",
    "        [ 23,  24,  25,  26,  27],\n",
    "        [  6,   7,   8,   9,  10],\n",
    "        [ 38,  39,  40,  41,  42],\n",
    "        [ 25,  26,  27,  28,  29],\n",
    "        [  7,   8,   9,  10,  11]])\n",
    "\n",
    "torch.Size([10])\n",
    "tensor([ 33,  26,  22,  39,  16,  28,  11,  43,  30,  12])\n",
    "```\n",
    "\n",
    "### Sizes\n",
    "Your sample_x should be of size `(batch_size, sequence_length)` or (10, 5) in this case and sample_y should just have one dimension: batch_size (10). \n",
    "\n",
    "### Values\n",
    "\n",
    "You should also notice that the targets, sample_y, are the *next* value in the ordered test_text data. So, for an input sequence `[ 28,  29,  30,  31,  32]` that ends with the value `32`, the corresponding output should be `33`."
   ]
  },
  {
   "cell_type": "code",
   "execution_count": 15,
   "metadata": {
    "colab": {
     "base_uri": "https://localhost:8080/",
     "height": 255
    },
    "colab_type": "code",
    "id": "L9Sxmvvn6KuQ",
    "outputId": "210327d1-fd64-4e6e-e357-1867a024ff79"
   },
   "outputs": [
    {
     "name": "stdout",
     "output_type": "stream",
     "text": [
      "torch.Size([10, 5])\n",
      "tensor([[42, 43, 44, 45, 46],\n",
      "        [19, 20, 21, 22, 23],\n",
      "        [39, 40, 41, 42, 43],\n",
      "        [10, 11, 12, 13, 14],\n",
      "        [30, 31, 32, 33, 34],\n",
      "        [41, 42, 43, 44, 45],\n",
      "        [ 2,  3,  4,  5,  6],\n",
      "        [37, 38, 39, 40, 41],\n",
      "        [20, 21, 22, 23, 24],\n",
      "        [34, 35, 36, 37, 38]])\n",
      "\n",
      "torch.Size([10])\n",
      "tensor([47, 24, 44, 15, 35, 46,  7, 42, 25, 39])\n"
     ]
    }
   ],
   "source": [
    "# test dataloader\n",
    "\n",
    "test_text = range(50)\n",
    "t_loader = batch_data(test_text, sequence_length=5, batch_size=10)\n",
    "\n",
    "data_iter = iter(t_loader)\n",
    "sample_x, sample_y = data_iter.next()\n",
    "\n",
    "print(sample_x.shape)\n",
    "print(sample_x)\n",
    "print()\n",
    "print(sample_y.shape)\n",
    "print(sample_y)"
   ]
  },
  {
   "cell_type": "markdown",
   "metadata": {
    "colab_type": "text",
    "id": "S6YIPf876KuS"
   },
   "source": [
    "---\n",
    "## Build the Neural Network\n",
    "Implement an RNN using PyTorch's [Module class](http://pytorch.org/docs/master/nn.html#torch.nn.Module). You may choose to use a GRU or an LSTM. To complete the RNN, you'll have to implement the following functions for the class:\n",
    " - `__init__` - The initialize function. \n",
    " - `init_hidden` - The initialization function for an LSTM/GRU hidden state\n",
    " - `forward` - Forward propagation function.\n",
    " \n",
    "The initialize function should create the layers of the neural network and save them to the class. The forward propagation function will use these layers to run forward propagation and generate an output and a hidden state.\n",
    "\n",
    "**The output of this model should be the *last* batch of word scores** after a complete sequence has been processed. That is, for each input sequence of words, we only want to output the word scores for a single, most likely, next word.\n",
    "\n",
    "### Hints\n",
    "\n",
    "1. Make sure to stack the outputs of the lstm to pass to your fully-connected layer, you can do this with `lstm_output = lstm_output.contiguous().view(-1, self.hidden_dim)`\n",
    "2. You can get the last batch of word scores by shaping the output of the final, fully-connected layer like so:\n",
    "\n",
    "```\n",
    "# reshape into (batch_size, seq_length, output_size)\n",
    "output = output.view(batch_size, -1, self.output_size)\n",
    "# get last batch\n",
    "out = output[:, -1]\n",
    "```"
   ]
  },
  {
   "cell_type": "code",
   "execution_count": 16,
   "metadata": {
    "colab": {
     "base_uri": "https://localhost:8080/",
     "height": 34
    },
    "colab_type": "code",
    "id": "KR_J6_yS6KuT",
    "outputId": "c4a85479-7f52-4e6a-bac3-d151cb31268e"
   },
   "outputs": [
    {
     "name": "stdout",
     "output_type": "stream",
     "text": [
      "Tests Passed\n"
     ]
    }
   ],
   "source": [
    "import torch.nn as nn\n",
    "\n",
    "class RNN(nn.Module):\n",
    "    \n",
    "    def __init__(self, vocab_size, output_size, embedding_dim, hidden_dim, n_layers, dropout=0.5):\n",
    "        \"\"\"\n",
    "        Initialize the PyTorch RNN Module\n",
    "        :param vocab_size: The number of input dimensions of the neural network (the size of the vocabulary)\n",
    "        :param output_size: The number of output dimensions of the neural network\n",
    "        :param embedding_dim: The size of embeddings, should you choose to use them        \n",
    "        :param hidden_dim: The size of the hidden layer outputs\n",
    "        :param dropout: dropout to add in between LSTM/GRU layers\n",
    "        \"\"\"\n",
    "        super(RNN, self).__init__()\n",
    "        # set class variables\n",
    "        self.vocab_size = vocab_size\n",
    "        self.output_size = output_size\n",
    "        self.embedding_dim = embedding_dim\n",
    "        self.hidden_dim = hidden_dim\n",
    "        self.n_layers = n_layers\n",
    "        self.dropout = dropout\n",
    "        # define model layers\n",
    "        self.embed = nn.Embedding(vocab_size, embedding_dim)\n",
    "        self.lstm = nn.LSTM(embedding_dim, hidden_dim, n_layers, dropout = dropout, batch_first = True)\n",
    "        \n",
    "        self.dropout = nn.Dropout(dropout)\n",
    "        self.fc = nn.Linear(hidden_dim, output_size)\n",
    "    \n",
    "    def forward(self, nn_input, hidden):\n",
    "        \"\"\"\n",
    "        Forward propagation of the neural network\n",
    "        :param nn_input: The input to the neural network\n",
    "        :param hidden: The hidden state        \n",
    "        :return: Two Tensors, the output of the neural network and the latest hidden state\n",
    "        \"\"\"\n",
    "        # Generate embeddings for passing into LSTM\n",
    "        batch_size = nn_input.size(0)\n",
    "        nn_input = nn_input.long()\n",
    "        embedding = self.embed(nn_input)\n",
    "        \n",
    "        # LSTM\n",
    "        lstm_out, hidden = self.lstm(embedding, hidden)\n",
    "        lstm_out_stacked = lstm_out.contiguous().view(-1, self.hidden_dim)\n",
    "        lstm_out_post_dropout = self.dropout(lstm_out_stacked)\n",
    "        # Fully connected layer output\n",
    "        output = self.fc(lstm_out_post_dropout)\n",
    "        # reshape into (batch_size, sequence length, output_size)\n",
    "        output = output.contiguous().view(batch_size, -1, self.output_size)\n",
    "        # Get the last batch\n",
    "        out = output[:, -1]\n",
    "        # return one batch of output word scores and the hidden state\n",
    "        return out, hidden\n",
    "    \n",
    "    \n",
    "    def init_hidden(self, batch_size):\n",
    "        '''\n",
    "        Initialize the hidden state of an LSTM/GRU\n",
    "        :param batch_size: The batch_size of the hidden state\n",
    "        :return: hidden state of dims (n_layers, batch_size, hidden_dim)\n",
    "        '''\n",
    "        # retrive the weights of the LSTM\n",
    "        weights = next(self.parameters()).data\n",
    "        # initialize hidden state with zero weights, and move to GPU if available\n",
    "        if train_on_gpu:\n",
    "            hidden = (weights.new(self.n_layers, batch_size, self.hidden_dim).zero_().cuda(),\n",
    "                      weights.new(self.n_layers, batch_size, self.hidden_dim).zero_().cuda())\n",
    "        else:\n",
    "            hidden = (weights.new(self.n_layers, batch_size, self.hidden_dim).zero_(),\n",
    "                      weights.new(self.n_layers, batch_size, self.hidden_dim).zero_())\n",
    "        return hidden\n",
    "\n",
    "\"\"\"\n",
    "DON'T MODIFY ANYTHING IN THIS CELL THAT IS BELOW THIS LINE\n",
    "\"\"\"\n",
    "tests.test_rnn(RNN, train_on_gpu)"
   ]
  },
  {
   "cell_type": "markdown",
   "metadata": {
    "colab_type": "text",
    "id": "YKUHRDDW6KuV"
   },
   "source": [
    "### Define forward and backpropagation\n",
    "\n",
    "Use the RNN class you implemented to apply forward and back propagation. This function will be called, iteratively, in the training loop as follows:\n",
    "```\n",
    "loss = forward_back_prop(decoder, decoder_optimizer, criterion, inp, target)\n",
    "```\n",
    "\n",
    "And it should return the average loss over a batch and the hidden state returned by a call to `RNN(inp, hidden)`. Recall that you can get this loss by computing it, as usual, and calling `loss.item()`.\n",
    "\n",
    "**If a GPU is available, you should move your data to that GPU device, here.**"
   ]
  },
  {
   "cell_type": "code",
   "execution_count": 17,
   "metadata": {
    "colab": {
     "base_uri": "https://localhost:8080/",
     "height": 34
    },
    "colab_type": "code",
    "id": "WLOwPFgE6KuV",
    "outputId": "2f5ae49a-9302-4542-a66c-9d4239891a6e"
   },
   "outputs": [
    {
     "name": "stdout",
     "output_type": "stream",
     "text": [
      "Tests Passed\n"
     ]
    }
   ],
   "source": [
    "def forward_back_prop(rnn, optimizer, criterion, inp, target, hidden):\n",
    "    \"\"\"\n",
    "    Forward and backward propagation on the neural network\n",
    "    :param rnn: The PyTorch Module that holds the neural network\n",
    "    :param optimizer: The PyTorch optimizer for the neural network\n",
    "    :param criterion: The PyTorch loss function\n",
    "    :param inp: A batch of input to the neural network\n",
    "    :param target: The target output for the batch of input\n",
    "    :return: The loss and the latest hidden state Tensor\n",
    "    \"\"\"\n",
    "    \n",
    "    rnn.zero_grad()\n",
    "    # TODO: Implement Function\n",
    "    # move data to GPU, if available\n",
    "    if train_on_gpu:\n",
    "        inp, target = inp.cuda(), target.cuda()\n",
    "        rnn = rnn.cuda()\n",
    "    hidden = tuple([each.data for each in hidden])\n",
    "    # perform backpropagation and optimization\n",
    "    \n",
    "    output, hidden = rnn(inp, hidden)\n",
    "    loss = criterion(output, target)\n",
    "    loss.backward()\n",
    "    \n",
    "    loss_out = loss.item()\n",
    "    \n",
    "    # Clip the gradient to prevent gradient exploding\n",
    "    nn.utils.clip_grad_norm_(rnn.parameters(), 5)\n",
    "    optimizer.step()\n",
    "    # return the loss over a batch and the hidden state produced by our model\n",
    "    return loss_out, hidden\n",
    "\n",
    "# Note that these tests aren't completely extensive.\n",
    "# they are here to act as general checks on the expected outputs of your functions\n",
    "\"\"\"\n",
    "DON'T MODIFY ANYTHING IN THIS CELL THAT IS BELOW THIS LINE\n",
    "\"\"\"\n",
    "tests.test_forward_back_prop(RNN, forward_back_prop, train_on_gpu)"
   ]
  },
  {
   "cell_type": "markdown",
   "metadata": {
    "colab_type": "text",
    "id": "fPJ0N7vJ6KuY"
   },
   "source": [
    "## Neural Network Training\n",
    "\n",
    "With the structure of the network complete and data ready to be fed in the neural network, it's time to train it.\n",
    "\n",
    "### Train Loop\n",
    "\n",
    "The training loop is implemented for you in the `train_decoder` function. This function will train the network over all the batches for the number of epochs given. The model progress will be shown every number of batches. This number is set with the `show_every_n_batches` parameter. You'll set this parameter along with other parameters in the next section."
   ]
  },
  {
   "cell_type": "code",
   "execution_count": 18,
   "metadata": {
    "colab": {},
    "colab_type": "code",
    "id": "ry7zitiS6KuY"
   },
   "outputs": [],
   "source": [
    "\"\"\"\n",
    "DON'T MODIFY ANYTHING IN THIS CELL\n",
    "\"\"\"\n",
    "\n",
    "def train_rnn(rnn, batch_size, optimizer, criterion, n_epochs, show_every_n_batches=100):\n",
    "    batch_losses = []\n",
    "    \n",
    "    rnn.train()\n",
    "\n",
    "    print(\"Training for %d epoch(s)...\" % n_epochs)\n",
    "    for epoch_i in range(1, n_epochs + 1):\n",
    "        \n",
    "        # initialize hidden state\n",
    "        hidden = rnn.init_hidden(batch_size)\n",
    "        \n",
    "        for batch_i, (inputs, labels) in enumerate(train_loader, 1):\n",
    "            \n",
    "            # make sure you iterate over completely full batches, only\n",
    "            n_batches = len(train_loader.dataset)//batch_size\n",
    "            if(batch_i > n_batches):\n",
    "                break\n",
    "            \n",
    "            # forward, back prop\n",
    "            loss, hidden = forward_back_prop(rnn, optimizer, criterion, inputs, labels, hidden)          \n",
    "            # record loss\n",
    "            batch_losses.append(loss)\n",
    "\n",
    "            # printing loss stats\n",
    "            if batch_i % show_every_n_batches == 0:\n",
    "                print('Epoch: {:>4}/{:<4}  Loss: {}\\n'.format(\n",
    "                    epoch_i, n_epochs, np.average(batch_losses)))\n",
    "                batch_losses = []\n",
    "\n",
    "    # returns a trained rnn\n",
    "    return rnn"
   ]
  },
  {
   "cell_type": "markdown",
   "metadata": {
    "colab_type": "text",
    "id": "yj4Yxg7c6Kua"
   },
   "source": [
    "### Hyperparameters\n",
    "\n",
    "Set and train the neural network with the following parameters:\n",
    "- Set `sequence_length` to the length of a sequence.\n",
    "- Set `batch_size` to the batch size.\n",
    "- Set `num_epochs` to the number of epochs to train for.\n",
    "- Set `learning_rate` to the learning rate for an Adam optimizer.\n",
    "- Set `vocab_size` to the number of unique tokens in our vocabulary.\n",
    "- Set `output_size` to the desired size of the output.\n",
    "- Set `embedding_dim` to the embedding dimension; smaller than the vocab_size.\n",
    "- Set `hidden_dim` to the hidden dimension of your RNN.\n",
    "- Set `n_layers` to the number of layers/cells in your RNN.\n",
    "- Set `show_every_n_batches` to the number of batches at which the neural network should print progress.\n",
    "\n",
    "If the network isn't getting the desired results, tweak these parameters and/or the layers in the `RNN` class."
   ]
  },
  {
   "cell_type": "code",
   "execution_count": 19,
   "metadata": {
    "colab": {},
    "colab_type": "code",
    "id": "PbyPS2MXyERl"
   },
   "outputs": [],
   "source": [
    "# Average words in a line\n",
    "text_alt = text.lower()\n",
    "\n",
    "for key, token in token_dict.items():\n",
    "  if key == \"\\n\":\n",
    "    pass\n",
    "  else:\n",
    "    text_alt = text_alt.replace(key, ' {} '.format(token))\n",
    "\n",
    "lines_alt = text_alt.split(\"\\n\")\n",
    "lines_split = [len(line.split()) for line in lines_alt if len(line) > 0]\n",
    "\n",
    "average_word_per_line = round(np.mean(lines_split))"
   ]
  },
  {
   "cell_type": "code",
   "execution_count": 20,
   "metadata": {
    "colab": {
     "base_uri": "https://localhost:8080/",
     "height": 34
    },
    "colab_type": "code",
    "id": "CKNbGDUqyhZi",
    "outputId": "aefa50e1-7eb5-4bd7-8334-c17630cd9a7b"
   },
   "outputs": [
    {
     "data": {
      "text/plain": [
       "17.0"
      ]
     },
     "execution_count": 20,
     "metadata": {},
     "output_type": "execute_result"
    }
   ],
   "source": [
    "average_word_per_line"
   ]
  },
  {
   "cell_type": "code",
   "execution_count": 21,
   "metadata": {
    "colab": {},
    "colab_type": "code",
    "id": "5c3_JFVg6Kua"
   },
   "outputs": [],
   "source": [
    "# Data params\n",
    "# Sequence Length\n",
    "sequence_length =  100 # of words in a sequence\n",
    "# Batch Size\n",
    "batch_size = 128\n",
    "\n",
    "# data loader - do not change\n",
    "train_loader = batch_data(int_text, sequence_length, batch_size)"
   ]
  },
  {
   "cell_type": "code",
   "execution_count": 22,
   "metadata": {
    "colab": {},
    "colab_type": "code",
    "id": "4cb3ub476Kud"
   },
   "outputs": [],
   "source": [
    "# Training parameters\n",
    "# Number of Epochs\n",
    "num_epochs = 10\n",
    "# Learning Rate\n",
    "learning_rate = 0.0001\n",
    "\n",
    "# Model parameters\n",
    "# Vocab size\n",
    "vocab_size = len(set(int_text))\n",
    "# Output size\n",
    "output_size = len(set(int_text))\n",
    "# Embedding Dimension\n",
    "embedding_dim = 500\n",
    "# Hidden Dimension\n",
    "hidden_dim = 512\n",
    "# Number of RNN Layers\n",
    "n_layers = 3\n",
    "\n",
    "# Show stats for every n number of batches\n",
    "show_every_n_batches = 500"
   ]
  },
  {
   "cell_type": "markdown",
   "metadata": {
    "colab_type": "text",
    "id": "bBqJlC5j6Kug"
   },
   "source": [
    "### Train\n",
    "In the next cell, you'll train the neural network on the pre-processed data.  If you have a hard time getting a good loss, you may consider changing your hyperparameters. In general, you may get better results with larger hidden and n_layer dimensions, but larger models take a longer time to train. \n",
    "> **You should aim for a loss less than 3.5.** \n",
    "\n",
    "You should also experiment with different sequence lengths, which determine the size of the long range dependencies that a model can learn."
   ]
  },
  {
   "cell_type": "code",
   "execution_count": 19,
   "metadata": {
    "colab": {
     "base_uri": "https://localhost:8080/",
     "height": 1000
    },
    "colab_type": "code",
    "id": "Wi8HF8vc6Kuh",
    "outputId": "fc932f0a-4b13-432b-e4cc-680265d320f1"
   },
   "outputs": [
    {
     "name": "stdout",
     "output_type": "stream",
     "text": [
      "Training for 10 epoch(s)...\n",
      "Epoch:    1/10    Loss: 5.866097800254821\n",
      "\n",
      "Epoch:    1/10    Loss: 4.949454942703247\n",
      "\n",
      "Epoch:    1/10    Loss: 4.719234578132629\n",
      "\n",
      "Epoch:    1/10    Loss: 4.512653859138489\n",
      "\n",
      "Epoch:    1/10    Loss: 4.385707388401031\n",
      "\n",
      "Epoch:    1/10    Loss: 4.312580111503601\n",
      "\n",
      "Epoch:    1/10    Loss: 4.2636908736228945\n",
      "\n",
      "Epoch:    1/10    Loss: 4.185365654468536\n",
      "\n",
      "Epoch:    1/10    Loss: 4.145051881313324\n",
      "\n",
      "Epoch:    1/10    Loss: 4.122368188381195\n",
      "\n",
      "Epoch:    1/10    Loss: 4.07813525724411\n",
      "\n",
      "Epoch:    1/10    Loss: 4.051084157466889\n",
      "\n",
      "Epoch:    1/10    Loss: 4.0513275141716\n",
      "\n",
      "Epoch:    1/10    Loss: 4.010568488121033\n",
      "\n",
      "Epoch:    1/10    Loss: 3.9861945576667788\n",
      "\n",
      "Epoch:    2/10    Loss: 3.9267206102642493\n",
      "\n",
      "Epoch:    2/10    Loss: 3.918357612609863\n",
      "\n",
      "Epoch:    2/10    Loss: 3.902910923957825\n",
      "\n",
      "Epoch:    2/10    Loss: 3.88414573431015\n",
      "\n",
      "Epoch:    2/10    Loss: 3.8652913904190065\n",
      "\n",
      "Epoch:    2/10    Loss: 3.8509298248291017\n",
      "\n",
      "Epoch:    2/10    Loss: 3.856842459201813\n",
      "\n",
      "Epoch:    2/10    Loss: 3.854659819602966\n",
      "\n",
      "Epoch:    2/10    Loss: 3.828595142364502\n",
      "\n",
      "Epoch:    2/10    Loss: 3.8285813183784483\n",
      "\n",
      "Epoch:    2/10    Loss: 3.825636414051056\n",
      "\n",
      "Epoch:    2/10    Loss: 3.804448621749878\n",
      "\n",
      "Epoch:    2/10    Loss: 3.8027460598945617\n",
      "\n",
      "Epoch:    2/10    Loss: 3.789962474822998\n",
      "\n",
      "Epoch:    2/10    Loss: 3.8076326994895937\n",
      "\n",
      "Epoch:    3/10    Loss: 3.7435743085867514\n",
      "\n",
      "Epoch:    3/10    Loss: 3.6934697952270508\n",
      "\n",
      "Epoch:    3/10    Loss: 3.7354647288322447\n",
      "\n",
      "Epoch:    3/10    Loss: 3.7318566374778745\n",
      "\n",
      "Epoch:    3/10    Loss: 3.6942320694923403\n",
      "\n",
      "Epoch:    3/10    Loss: 3.6953375806808473\n",
      "\n",
      "Epoch:    3/10    Loss: 3.716822690486908\n",
      "\n",
      "Epoch:    3/10    Loss: 3.6762110676765443\n",
      "\n",
      "Epoch:    3/10    Loss: 3.7238336997032166\n",
      "\n",
      "Epoch:    3/10    Loss: 3.703089599609375\n",
      "\n",
      "Epoch:    3/10    Loss: 3.6840813512802124\n",
      "\n",
      "Epoch:    3/10    Loss: 3.703481363773346\n",
      "\n",
      "Epoch:    3/10    Loss: 3.6967301077842714\n",
      "\n",
      "Epoch:    3/10    Loss: 3.7203683223724364\n",
      "\n",
      "Epoch:    3/10    Loss: 3.677667459487915\n",
      "\n",
      "Epoch:    4/10    Loss: 3.648371228835286\n",
      "\n",
      "Epoch:    4/10    Loss: 3.6504008631706237\n",
      "\n",
      "Epoch:    4/10    Loss: 3.6279364981651305\n",
      "\n",
      "Epoch:    4/10    Loss: 3.616754805088043\n",
      "\n",
      "Epoch:    4/10    Loss: 3.629601929187775\n",
      "\n",
      "Epoch:    4/10    Loss: 3.6234901576042176\n",
      "\n",
      "Epoch:    4/10    Loss: 3.617670997142792\n",
      "\n",
      "Epoch:    4/10    Loss: 3.638296678543091\n",
      "\n",
      "Epoch:    4/10    Loss: 3.619787188529968\n",
      "\n",
      "Epoch:    4/10    Loss: 3.6236415867805483\n",
      "\n",
      "Epoch:    4/10    Loss: 3.612901607513428\n",
      "\n",
      "Epoch:    4/10    Loss: 3.6208148498535158\n",
      "\n",
      "Epoch:    4/10    Loss: 3.642368691444397\n",
      "\n",
      "Epoch:    4/10    Loss: 3.599462616920471\n",
      "\n",
      "Epoch:    4/10    Loss: 3.6032881455421446\n",
      "\n",
      "Epoch:    5/10    Loss: 3.5828707021021398\n",
      "\n",
      "Epoch:    5/10    Loss: 3.5755878744125367\n",
      "\n",
      "Epoch:    5/10    Loss: 3.5528258953094483\n",
      "\n",
      "Epoch:    5/10    Loss: 3.5559839777946474\n",
      "\n",
      "Epoch:    5/10    Loss: 3.556216513156891\n",
      "\n",
      "Epoch:    5/10    Loss: 3.572672752380371\n",
      "\n",
      "Epoch:    5/10    Loss: 3.55475680065155\n",
      "\n",
      "Epoch:    5/10    Loss: 3.5615141944885256\n",
      "\n",
      "Epoch:    5/10    Loss: 3.5422656354904176\n",
      "\n",
      "Epoch:    5/10    Loss: 3.550943985462189\n",
      "\n",
      "Epoch:    5/10    Loss: 3.540232489109039\n",
      "\n",
      "Epoch:    5/10    Loss: 3.5611853346824645\n",
      "\n",
      "Epoch:    5/10    Loss: 3.556867374420166\n",
      "\n",
      "Epoch:    5/10    Loss: 3.5564818525314332\n",
      "\n",
      "Epoch:    5/10    Loss: 3.5535194272994994\n",
      "\n",
      "Epoch:    6/10    Loss: 3.523133817029236\n",
      "\n",
      "Epoch:    6/10    Loss: 3.5003046708106993\n",
      "\n",
      "Epoch:    6/10    Loss: 3.4875466532707216\n",
      "\n",
      "Epoch:    6/10    Loss: 3.4869706783294676\n",
      "\n",
      "Epoch:    6/10    Loss: 3.509374406337738\n",
      "\n",
      "Epoch:    6/10    Loss: 3.4985143971443176\n",
      "\n",
      "Epoch:    6/10    Loss: 3.5061041316986086\n",
      "\n",
      "Epoch:    6/10    Loss: 3.5135206847190856\n",
      "\n",
      "Epoch:    6/10    Loss: 3.528291968345642\n",
      "\n",
      "Epoch:    6/10    Loss: 3.5184341602325437\n",
      "\n",
      "Epoch:    6/10    Loss: 3.522143042087555\n",
      "\n",
      "Epoch:    6/10    Loss: 3.5229646549224856\n",
      "\n",
      "Epoch:    6/10    Loss: 3.4912210040092466\n",
      "\n",
      "Epoch:    6/10    Loss: 3.503851793766022\n",
      "\n",
      "Epoch:    6/10    Loss: 3.5207506585121155\n",
      "\n",
      "Epoch:    7/10    Loss: 3.486544937125377\n",
      "\n",
      "Epoch:    7/10    Loss: 3.4715142669677737\n",
      "\n",
      "Epoch:    7/10    Loss: 3.453876651763916\n",
      "\n",
      "Epoch:    7/10    Loss: 3.4730567445755005\n",
      "\n",
      "Epoch:    7/10    Loss: 3.4719071168899536\n",
      "\n",
      "Epoch:    7/10    Loss: 3.4730729217529297\n",
      "\n",
      "Epoch:    7/10    Loss: 3.4825414695739747\n",
      "\n",
      "Epoch:    7/10    Loss: 3.4513575735092163\n",
      "\n",
      "Epoch:    7/10    Loss: 3.465577568531036\n",
      "\n",
      "Epoch:    7/10    Loss: 3.4546003794670104\n",
      "\n",
      "Epoch:    7/10    Loss: 3.4828633122444153\n",
      "\n",
      "Epoch:    7/10    Loss: 3.4712132716178896\n",
      "\n",
      "Epoch:    7/10    Loss: 3.4702524824142458\n",
      "\n",
      "Epoch:    7/10    Loss: 3.447485716819763\n",
      "\n",
      "Epoch:    7/10    Loss: 3.4602973594665527\n",
      "\n",
      "Epoch:    8/10    Loss: 3.440321207046509\n",
      "\n",
      "Epoch:    8/10    Loss: 3.4428234701156617\n",
      "\n",
      "Epoch:    8/10    Loss: 3.4201754446029664\n",
      "\n",
      "Epoch:    8/10    Loss: 3.4232562680244447\n",
      "\n",
      "Epoch:    8/10    Loss: 3.423957790374756\n",
      "\n",
      "Epoch:    8/10    Loss: 3.4131307101249693\n",
      "\n",
      "Epoch:    8/10    Loss: 3.4312211599349975\n",
      "\n",
      "Epoch:    8/10    Loss: 3.439343138217926\n",
      "\n",
      "Epoch:    8/10    Loss: 3.4132681612968443\n",
      "\n",
      "Epoch:    8/10    Loss: 3.406190487384796\n",
      "\n",
      "Epoch:    8/10    Loss: 3.4540574951171874\n",
      "\n",
      "Epoch:    8/10    Loss: 3.461218525886536\n",
      "\n",
      "Epoch:    8/10    Loss: 3.4376314234733583\n",
      "\n",
      "Epoch:    8/10    Loss: 3.433308333873749\n",
      "\n",
      "Epoch:    8/10    Loss: 3.4328499445915224\n",
      "\n",
      "Epoch:    9/10    Loss: 3.3974458890029586\n",
      "\n",
      "Epoch:    9/10    Loss: 3.3796821341514587\n",
      "\n",
      "Epoch:    9/10    Loss: 3.3937101936340333\n",
      "\n",
      "Epoch:    9/10    Loss: 3.377994316577911\n",
      "\n",
      "Epoch:    9/10    Loss: 3.3916730222702025\n",
      "\n",
      "Epoch:    9/10    Loss: 3.3938829383850098\n",
      "\n",
      "Epoch:    9/10    Loss: 3.4075305547714234\n",
      "\n",
      "Epoch:    9/10    Loss: 3.388086971282959\n",
      "\n",
      "Epoch:    9/10    Loss: 3.3945032901763916\n",
      "\n",
      "Epoch:    9/10    Loss: 3.4204513363838194\n",
      "\n",
      "Epoch:    9/10    Loss: 3.419017213821411\n",
      "\n",
      "Epoch:    9/10    Loss: 3.383146463871002\n",
      "\n",
      "Epoch:    9/10    Loss: 3.3783791780471804\n",
      "\n",
      "Epoch:    9/10    Loss: 3.395532766819\n",
      "\n",
      "Epoch:    9/10    Loss: 3.426447504520416\n",
      "\n",
      "Epoch:   10/10    Loss: 3.3796645288562037\n",
      "\n",
      "Epoch:   10/10    Loss: 3.341304939746857\n",
      "\n",
      "Epoch:   10/10    Loss: 3.355549219608307\n",
      "\n",
      "Epoch:   10/10    Loss: 3.338463671207428\n",
      "\n",
      "Epoch:   10/10    Loss: 3.354487545967102\n",
      "\n",
      "Epoch:   10/10    Loss: 3.3614325437545776\n",
      "\n",
      "Epoch:   10/10    Loss: 3.350358151912689\n",
      "\n",
      "Epoch:   10/10    Loss: 3.368584481239319\n",
      "\n",
      "Epoch:   10/10    Loss: 3.368151518344879\n",
      "\n",
      "Epoch:   10/10    Loss: 3.3993041234016417\n",
      "\n",
      "Epoch:   10/10    Loss: 3.38096173286438\n",
      "\n",
      "Epoch:   10/10    Loss: 3.368091510772705\n",
      "\n",
      "Epoch:   10/10    Loss: 3.399398377895355\n",
      "\n",
      "Epoch:   10/10    Loss: 3.3897011523246765\n",
      "\n",
      "Epoch:   10/10    Loss: 3.378218419551849\n",
      "\n",
      "Model Trained and Saved\n"
     ]
    }
   ],
   "source": [
    "\"\"\"\n",
    "DON'T MODIFY ANYTHING IN THIS CELL\n",
    "\"\"\"\n",
    "\n",
    "# create model and move to gpu if available\n",
    "rnn = RNN(vocab_size, output_size, embedding_dim, hidden_dim, n_layers, dropout=0.5)\n",
    "if train_on_gpu:\n",
    "    rnn.cuda()\n",
    "\n",
    "# defining loss and optimization functions for training\n",
    "optimizer = torch.optim.Adam(rnn.parameters(), lr=learning_rate)\n",
    "\n",
    "criterion = nn.CrossEntropyLoss()\n",
    "\n",
    "# training the model\n",
    "trained_rnn = train_rnn(rnn, batch_size, optimizer, criterion, num_epochs, show_every_n_batches)\n",
    "\n",
    "# saving the trained model\n",
    "helper.save_model('trained_rnn', trained_rnn)\n",
    "print('Model Trained and Saved')"
   ]
  },
  {
   "cell_type": "markdown",
   "metadata": {
    "colab_type": "text",
    "id": "CQng8XtB6Kui"
   },
   "source": [
    "### Question: How did you decide on your model hyperparameters? \n",
    "For example, did you try different sequence_lengths and find that one size made the model converge faster? What about your hidden_dim and n_layers; how did you decide on those?"
   ]
  },
  {
   "cell_type": "markdown",
   "metadata": {
    "colab_type": "text",
    "id": "aPyEtlyy6Kuj"
   },
   "source": [
    "The longer the sequence, the slower the "
   ]
  },
  {
   "cell_type": "markdown",
   "metadata": {
    "colab_type": "text",
    "id": "JnD12wrd6Kuj"
   },
   "source": [
    "---\n",
    "# Checkpoint\n",
    "\n",
    "After running the above training cell, your model will be saved by name, `trained_rnn`, and if you save your notebook progress, **you can pause here and come back to this code at another time**. You can resume your progress by running the next cell, which will load in our word:id dictionaries _and_ load in your saved model by name!"
   ]
  },
  {
   "cell_type": "code",
   "execution_count": 23,
   "metadata": {
    "colab": {},
    "colab_type": "code",
    "id": "Hca_hK5G6Kuj"
   },
   "outputs": [],
   "source": [
    "\"\"\"\n",
    "DON'T MODIFY ANYTHING IN THIS CELL\n",
    "\"\"\"\n",
    "import torch\n",
    "import helper\n",
    "import problem_unittests as tests\n",
    "\n",
    "_, vocab_to_int, int_to_vocab, token_dict = helper.load_preprocess()\n",
    "trained_rnn = helper.load_model('./save/trained_rnn')"
   ]
  },
  {
   "cell_type": "markdown",
   "metadata": {
    "colab_type": "text",
    "id": "davewL_16Kul"
   },
   "source": [
    "## Generate TV Script\n",
    "With the network trained and saved, you'll use it to generate a new, \"fake\" Seinfeld TV script in this section.\n",
    "\n",
    "### Generate Text\n",
    "To generate the text, the network needs to start with a single word and repeat its predictions until it reaches a set length. You'll be using the `generate` function to do this. It takes a word id to start with, `prime_id`, and generates a set length of text, `predict_len`. Also note that it uses topk sampling to introduce some randomness in choosing the most likely next word, given an output set of word scores!"
   ]
  },
  {
   "cell_type": "code",
   "execution_count": 27,
   "metadata": {
    "colab": {},
    "colab_type": "code",
    "id": "nnXRR8r16Kum"
   },
   "outputs": [],
   "source": [
    "\"\"\"\n",
    "DON'T MODIFY ANYTHING IN THIS CELL THAT IS BELOW THIS LINE\n",
    "\"\"\"\n",
    "import torch.nn.functional as F\n",
    "\n",
    "def generate(rnn, prime_id, int_to_vocab, token_dict, pad_value, predict_len=100):\n",
    "    \"\"\"\n",
    "    Generate text using the neural network\n",
    "    :param decoder: The PyTorch Module that holds the trained neural network\n",
    "    :param prime_id: The word id to start the first prediction\n",
    "    :param int_to_vocab: Dict of word id keys to word values\n",
    "    :param token_dict: Dict of puncuation tokens keys to puncuation values\n",
    "    :param pad_value: The value used to pad a sequence\n",
    "    :param predict_len: The length of text to generate\n",
    "    :return: The generated text\n",
    "    \"\"\"\n",
    "    rnn.eval()\n",
    "    \n",
    "    # create a sequence (batch_size=1) with the prime_id\n",
    "    current_seq = np.full((1, sequence_length), pad_value)\n",
    "    current_seq[-1][-1] = prime_id\n",
    "    predicted = [int_to_vocab[prime_id]]\n",
    "    \n",
    "    for _ in range(predict_len):\n",
    "        if train_on_gpu:\n",
    "            current_seq = torch.LongTensor(current_seq).cuda()\n",
    "        else:\n",
    "            current_seq = torch.LongTensor(current_seq)\n",
    "        \n",
    "        # initialize the hidden state\n",
    "        hidden = rnn.init_hidden(current_seq.size(0))\n",
    "        \n",
    "        # get the output of the rnn\n",
    "        output, _ = rnn(current_seq, hidden)\n",
    "        \n",
    "        # get the next word probabilities\n",
    "        p = F.softmax(output, dim=1).data\n",
    "        if(train_on_gpu):\n",
    "            p = p.cpu() # move to cpu\n",
    "         \n",
    "        # use top_k sampling to get the index of the next word\n",
    "        top_k = 5\n",
    "        p, top_i = p.topk(top_k)\n",
    "        top_i = top_i.numpy().squeeze()\n",
    "        \n",
    "        # select the likely next word index with some element of randomness\n",
    "        p = p.numpy().squeeze()\n",
    "        word_i = np.random.choice(top_i, p=p/p.sum())\n",
    "        \n",
    "        # retrieve that word from the dictionary\n",
    "        word = int_to_vocab[word_i]\n",
    "        predicted.append(word)     \n",
    "        \n",
    "        if(train_on_gpu):\n",
    "            current_seq = current_seq.cpu() # move to cpu\n",
    "        # the generated word becomes the next \"current sequence\" and the cycle can continue\n",
    "        if train_on_gpu:\n",
    "            current_seq = current_seq.cpu()\n",
    "        current_seq = np.roll(current_seq, -1, 1)\n",
    "        current_seq[-1][-1] = word_i\n",
    "    \n",
    "    gen_sentences = ' '.join(predicted)\n",
    "    \n",
    "    # Replace punctuation tokens\n",
    "    for key, token in token_dict.items():\n",
    "        ending = ' ' if key in ['\\n', '(', '\"'] else ''\n",
    "        gen_sentences = gen_sentences.replace(' ' + token, key)\n",
    "    gen_sentences = gen_sentences.replace('\\n ', '\\n')\n",
    "    gen_sentences = gen_sentences.replace('( ', '(')\n",
    "    \n",
    "    # return all the sentences\n",
    "    return gen_sentences"
   ]
  },
  {
   "cell_type": "markdown",
   "metadata": {
    "colab_type": "text",
    "id": "Qp2PWajZ6Kuo"
   },
   "source": [
    "### Generate a New Script\n",
    "It's time to generate the text. Set `gen_length` to the length of TV script you want to generate and set `prime_word` to one of the following to start the prediction:\n",
    "- \"jerry\"\n",
    "- \"elaine\"\n",
    "- \"george\"\n",
    "- \"kramer\"\n",
    "\n",
    "You can set the prime word to _any word_ in our dictionary, but it's best to start with a name for generating a TV script. (You can also start with any other names you find in the original text file!)"
   ]
  },
  {
   "cell_type": "code",
   "execution_count": 28,
   "metadata": {
    "colab": {},
    "colab_type": "code",
    "id": "PZpeXnax6Kuo"
   },
   "outputs": [
    {
     "name": "stdout",
     "output_type": "stream",
     "text": [
      "jerry, then then i can get the keys on the table and get a little bit.\n",
      "\n",
      "jerry: what' s the difference?\n",
      "\n",
      "george: no, no.\n",
      "\n",
      "george:(pointing to kramer) i know i' m sorry, you' re gonna have to go to the bathroom and get it out.\n",
      "\n",
      "kramer: well, i' m sorry about the whole day... i' m not gonna be able to be able to get it in.\n",
      "\n",
      "jerry: what are you talking?\n",
      "\n",
      "jerry: no, no. you know, i think that is my friend. you know what it' s gonna do?\n",
      "\n",
      "jerry: yeah.\n",
      "\n",
      "jerry: oh, i can' t do it. you know, i' m going to be able to go out here.(kramer enters)\n",
      "\n",
      "jerry: oh, hi, kramer!\n",
      "\n",
      "jerry: what is this?\n",
      "\n",
      "kramer: oh, no, no!\n",
      "\n",
      "jerry: oh, i' m not sorry!\n",
      "\n",
      "george: what' s the matter with you?\n",
      "\n",
      "jerry: i' m not sure i' ll see you later.\n",
      "\n",
      "jerry: i' m not going to get a little bit.\n",
      "\n",
      "jerry: i' m sorry. i' ll be back for a few minutes.\n",
      "\n",
      "kramer: yeah, yeah, yeah, yeah!\n",
      "\n",
      "jerry: you' ve got the money?\n",
      "\n",
      "george: yeah, well... i' m gonna get a lot of a man.(to kramer) you' re gonna get some other time.\n",
      "\n",
      "jerry:(to george) what is that?\n",
      "\n",
      "kramer: oh no, it' s a little good! you know, i think i' m going to be able to go in the middle of the street.\n",
      "\n",
      "george:(to the waitress) oh, you' re not going to get a little bit.\n"
     ]
    }
   ],
   "source": [
    "# run the cell multiple times to get different results!\n",
    "gen_length = 400 # modify the length to your preference\n",
    "prime_word = 'jerry' # name for starting the script\n",
    "\n",
    "\"\"\"\n",
    "DON'T MODIFY ANYTHING IN THIS CELL THAT IS BELOW THIS LINE\n",
    "\"\"\"\n",
    "pad_word = helper.SPECIAL_WORDS['PADDING']\n",
    "generated_script = generate(trained_rnn, vocab_to_int[prime_word], int_to_vocab, token_dict, vocab_to_int[pad_word], gen_length)\n",
    "print(generated_script)"
   ]
  },
  {
   "cell_type": "markdown",
   "metadata": {
    "colab_type": "text",
    "id": "KFteVd5J6Kuq"
   },
   "source": [
    "#### Save your favorite scripts\n",
    "\n",
    "Once you have a script that you like (or find interesting), save it to a text file!"
   ]
  },
  {
   "cell_type": "code",
   "execution_count": 29,
   "metadata": {
    "colab": {},
    "colab_type": "code",
    "id": "Q8c-NEWJ6Kuq"
   },
   "outputs": [],
   "source": [
    "# save script to a text file\n",
    "f =  open(\"generated_script_1.txt\",\"w\")\n",
    "f.write(generated_script)\n",
    "f.close()"
   ]
  },
  {
   "cell_type": "markdown",
   "metadata": {
    "colab_type": "text",
    "id": "eVIItzho6Kut"
   },
   "source": [
    "# The TV Script is Not Perfect\n",
    "It's ok if the TV script doesn't make perfect sense. It should look like alternating lines of dialogue, here is one such example of a few generated lines.\n",
    "\n",
    "### Example generated script\n",
    "\n",
    ">jerry: what about me?\n",
    ">\n",
    ">jerry: i don't have to wait.\n",
    ">\n",
    ">kramer:(to the sales table)\n",
    ">\n",
    ">elaine:(to jerry) hey, look at this, i'm a good doctor.\n",
    ">\n",
    ">newman:(to elaine) you think i have no idea of this...\n",
    ">\n",
    ">elaine: oh, you better take the phone, and he was a little nervous.\n",
    ">\n",
    ">kramer:(to the phone) hey, hey, jerry, i don't want to be a little bit.(to kramer and jerry) you can't.\n",
    ">\n",
    ">jerry: oh, yeah. i don't even know, i know.\n",
    ">\n",
    ">jerry:(to the phone) oh, i know.\n",
    ">\n",
    ">kramer:(laughing) you know...(to jerry) you don't know.\n",
    "\n",
    "You can see that there are multiple characters that say (somewhat) complete sentences, but it doesn't have to be perfect! It takes quite a while to get good results, and often, you'll have to use a smaller vocabulary (and discard uncommon words), or get more data.  The Seinfeld dataset is about 3.4 MB, which is big enough for our purposes; for script generation you'll want more than 1 MB of text, generally. \n",
    "\n",
    "# Submitting This Project\n",
    "When submitting this project, make sure to run all the cells before saving the notebook. Save the notebook file as \"dlnd_tv_script_generation.ipynb\" and save another copy as an HTML file by clicking \"File\" -> \"Download as..\"->\"html\". Include the \"helper.py\" and \"problem_unittests.py\" files in your submission. Once you download these files, compress them into one zip file for submission."
   ]
  },
  {
   "cell_type": "code",
   "execution_count": null,
   "metadata": {
    "colab": {},
    "colab_type": "code",
    "collapsed": true,
    "id": "5etMH4uO6Kut",
    "jupyter": {
     "outputs_hidden": true
    }
   },
   "outputs": [],
   "source": []
  }
 ],
 "metadata": {
  "accelerator": "GPU",
  "colab": {
   "name": "dlnd_tv_script_generation.ipynb",
   "provenance": [],
   "toc_visible": true
  },
  "kernelspec": {
   "display_name": "Python 3",
   "language": "python",
   "name": "python3"
  },
  "language_info": {
   "codemirror_mode": {
    "name": "ipython",
    "version": 3
   },
   "file_extension": ".py",
   "mimetype": "text/x-python",
   "name": "python",
   "nbconvert_exporter": "python",
   "pygments_lexer": "ipython3",
   "version": "3.7.7"
  }
 },
 "nbformat": 4,
 "nbformat_minor": 4
}
